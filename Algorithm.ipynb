{
 "cells": [
  {
   "cell_type": "code",
   "execution_count": 22,
   "id": "f81c81ce",
   "metadata": {},
   "outputs": [
    {
     "name": "stdout",
     "output_type": "stream",
     "text": [
      "Original list: [3, 1, 5, 2, 4, 12, 4, 21, 12, 10, 90, 23, 910, 22340, 123, 1, 290, 89, 102]\n",
      "Sorted list: [21, 4, 123, 1, 5, 10, 23, 22340, 12, 290, 89, 910, 102, 90, 2, 1, 3, 4, 12]\n",
      "Sorted list: [22340, 12, 23, 2, 12, 910, 4, 290, 89, 1, 21, 102, 4, 90, 123, 3, 5, 10, 1]\n",
      "Sorted list: [89, 12, 12, 290, 102, 4, 4, 1, 1, 2, 5, 90, 21, 3, 910, 10, 23, 123, 22340]\n",
      "Sorted list: [1, 3, 4, 4, 910, 10, 1, 102, 89, 290, 90, 5, 22340, 2, 12, 23, 123, 21, 12]\n",
      "Sorted list: [10, 102, 123, 12, 2, 3, 12, 4, 21, 5, 290, 1, 4, 23, 89, 90, 910, 1, 22340]\n"
     ]
    }
   ],
   "source": [
    "import random\n",
    "\n",
    "def bogo_sort(a, max_attempts=50):\n",
    "    attempts = 0\n",
    "    while not is_sorted(a) and attempts < max_attempts:\n",
    "        shuffle(a)\n",
    "        attempts += 1\n",
    "        \n",
    "def is_sorted(a):\n",
    "    n = len(a)\n",
    "    for i in range(n - 1):\n",
    "        if a[i] > a[i + 1]:\n",
    "            return False\n",
    "    return True\n",
    "\n",
    "def shuffle(a):\n",
    "    n = len(a)\n",
    "    for i in range(n):\n",
    "        r = random.randint(0, n - 1)\n",
    "        a[i], a[r] = a[r], a[i]\n",
    "\n",
    "# Example usage\n",
    "numbers = [3, 1, 5, 2, 4,12,4,21,12,10,90,23,910,22340,123,1,290,89,102]  # Replace with your numbers\n",
    "print(\"Original list:\", numbers)\n",
    "\n",
    "bogo_sort(numbers)\n",
    "print(\"Sorted list:\", numbers)\n",
    "bogo_sort(numbers)\n",
    "print(\"Sorted list:\", numbers)\n",
    "bogo_sort(numbers)\n",
    "print(\"Sorted list:\", numbers)\n",
    "bogo_sort(numbers)\n",
    "print(\"Sorted list:\", numbers)\n",
    "bogo_sort(numbers)\n",
    "print(\"Sorted list:\", numbers)"
   ]
  },
  {
   "cell_type": "code",
   "execution_count": null,
   "id": "9c0cbcec",
   "metadata": {},
   "outputs": [],
   "source": []
  },
  {
   "cell_type": "code",
   "execution_count": null,
   "id": "67bb38c0",
   "metadata": {},
   "outputs": [],
   "source": []
  }
 ],
 "metadata": {
  "kernelspec": {
   "display_name": "Python 3 (ipykernel)",
   "language": "python",
   "name": "python3"
  },
  "language_info": {
   "codemirror_mode": {
    "name": "ipython",
    "version": 3
   },
   "file_extension": ".py",
   "mimetype": "text/x-python",
   "name": "python",
   "nbconvert_exporter": "python",
   "pygments_lexer": "ipython3",
   "version": "3.11.4"
  }
 },
 "nbformat": 4,
 "nbformat_minor": 5
}

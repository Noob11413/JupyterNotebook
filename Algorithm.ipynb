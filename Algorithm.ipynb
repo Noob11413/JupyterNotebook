{
 "cells": [
  {
   "cell_type": "code",
   "execution_count": 1,
   "id": "f81c81ce",
   "metadata": {},
   "outputs": [
    {
     "name": "stdout",
     "output_type": "stream",
     "text": [
      "Original list: [3, 1, 5, 2, 4, 12, 4, 21, 12, 10, 90, 23, 910, 22340, 123, 1, 290, 89, 102]\n",
      "Sorted list: [12, 89, 10, 90, 123, 12, 21, 102, 5, 3, 910, 4, 290, 4, 22340, 1, 23, 2, 1]\n"
     ]
    }
   ],
   "source": [
    "import random\n",
    "\n",
    "def bogo_sort(a, max_attempts=10):\n",
    "    attempts = 0\n",
    "    while not is_sorted(a) and attempts < max_attempts:\n",
    "        shuffle(a)\n",
    "        attempts += 1\n",
    "        \n",
    "def is_sorted(a):\n",
    "    n = len(a)\n",
    "    for i in range(n - 1):\n",
    "        if a[i] > a[i + 1]:\n",
    "            return False\n",
    "    return True\n",
    "\n",
    "def shuffle(a):\n",
    "    n = len(a)\n",
    "    for i in range(n):\n",
    "        r = random.randint(0, n - 1)\n",
    "        a[i], a[r] = a[r], a[i]\n",
    "\n",
    "# Example usage\n",
    "numbers = [3, 1, 5, 2, 4,12,4,21,12,10,90,23,910,22340,123,1,290,89,102]  # Replace with your numbers\n",
    "print(\"Original list:\", numbers)\n",
    "\n",
    "bogo_sort(numbers)\n",
    "print(\"Sorted list:\", numbers)"
   ]
  },
  {
   "cell_type": "code",
   "execution_count": 2,
   "id": "ab298117",
   "metadata": {},
   "outputs": [
    {
     "name": "stdout",
     "output_type": "stream",
     "text": [
      "Original list: [3, 1, 5, 2, 4, 12, 4, 21, 12, 10, 90, 23, 910, 22340, 123, 1, 290, 89, 102]\n",
      "Sorted list: [2, 10, 3, 12, 5, 22340, 1, 4, 89, 123, 23, 290, 910, 4, 102, 1, 12, 21, 90]\n"
     ]
    }
   ],
   "source": [
    "import random\n",
    "\n",
    "def bogo_sort(a, max_attempts=10):\n",
    "    attempts = 0\n",
    "    while not is_sorted(a) and attempts < max_attempts:\n",
    "        shuffle(a)\n",
    "        attempts += 1\n",
    "        \n",
    "def is_sorted(a):\n",
    "    n = len(a)\n",
    "    for i in range(n - 1):\n",
    "        if a[i] > a[i + 1]:\n",
    "            return False\n",
    "    return True\n",
    "\n",
    "def shuffle(a):\n",
    "    n = len(a)\n",
    "    for i in range(n):\n",
    "        r = random.randint(0, n - 1)\n",
    "        a[i], a[r] = a[r], a[i]\n",
    "\n",
    "# Example usage\n",
    "numbers = [3, 1, 5, 2, 4,12,4,21,12,10,90,23,910,22340,123,1,290,89,102]  # Replace with your numbers\n",
    "print(\"Original list:\", numbers)\n",
    "\n",
    "bogo_sort(numbers)\n",
    "print(\"Sorted list:\", numbers)"
   ]
  },
  {
   "cell_type": "code",
   "execution_count": 3,
   "id": "384a114e",
   "metadata": {},
   "outputs": [
    {
     "name": "stdout",
     "output_type": "stream",
     "text": [
      "Original list: [3, 1, 5, 2, 4, 12, 4, 21, 12, 10, 90, 23, 910, 22340, 123, 1, 290, 89, 102]\n",
      "Sorted list: [12, 22340, 2, 102, 5, 290, 21, 1, 910, 10, 3, 90, 4, 1, 4, 12, 23, 89, 123]\n"
     ]
    }
   ],
   "source": [
    "import random\n",
    "\n",
    "def bogo_sort(a, max_attempts=10):\n",
    "    attempts = 0\n",
    "    while not is_sorted(a) and attempts < max_attempts:\n",
    "        shuffle(a)\n",
    "        attempts += 1\n",
    "        \n",
    "def is_sorted(a):\n",
    "    n = len(a)\n",
    "    for i in range(n - 1):\n",
    "        if a[i] > a[i + 1]:\n",
    "            return False\n",
    "    return True\n",
    "\n",
    "def shuffle(a):\n",
    "    n = len(a)\n",
    "    for i in range(n):\n",
    "        r = random.randint(0, n - 1)\n",
    "        a[i], a[r] = a[r], a[i]\n",
    "\n",
    "# Example usage\n",
    "numbers = [3, 1, 5, 2, 4,12,4,21,12,10,90,23,910,22340,123,1,290,89,102]  # Replace with your numbers\n",
    "print(\"Original list:\", numbers)\n",
    "\n",
    "bogo_sort(numbers)\n",
    "print(\"Sorted list:\", numbers)"
   ]
  },
  {
   "cell_type": "code",
   "execution_count": 4,
   "id": "c081d90c",
   "metadata": {},
   "outputs": [
    {
     "name": "stdout",
     "output_type": "stream",
     "text": [
      "Original list: [3, 1, 5, 2, 4, 12, 4, 21, 12, 10, 90, 23, 910, 22340, 123, 1, 290, 89, 102]\n",
      "Sorted list: [2, 89, 23, 21, 1, 90, 22340, 290, 5, 10, 12, 1, 4, 3, 102, 910, 12, 4, 123]\n"
     ]
    }
   ],
   "source": [
    "import random\n",
    "\n",
    "def bogo_sort(a, max_attempts=10):\n",
    "    attempts = 0\n",
    "    while not is_sorted(a) and attempts < max_attempts:\n",
    "        shuffle(a)\n",
    "        attempts += 1\n",
    "        \n",
    "def is_sorted(a):\n",
    "    n = len(a)\n",
    "    for i in range(n - 1):\n",
    "        if a[i] > a[i + 1]:\n",
    "            return False\n",
    "    return True\n",
    "\n",
    "def shuffle(a):\n",
    "    n = len(a)\n",
    "    for i in range(n):\n",
    "        r = random.randint(0, n - 1)\n",
    "        a[i], a[r] = a[r], a[i]\n",
    "\n",
    "# Example usage\n",
    "numbers = [3, 1, 5, 2, 4,12,4,21,12,10,90,23,910,22340,123,1,290,89,102]  # Replace with your numbers\n",
    "print(\"Original list:\", numbers)\n",
    "\n",
    "bogo_sort(numbers)\n",
    "print(\"Sorted list:\", numbers)"
   ]
  },
  {
   "cell_type": "code",
   "execution_count": null,
   "id": "c5bd2c4d",
   "metadata": {},
   "outputs": [],
   "source": []
  },
  {
   "cell_type": "code",
   "execution_count": null,
   "id": "a9f2f0e9",
   "metadata": {},
   "outputs": [],
   "source": []
  }
 ],
 "metadata": {
  "kernelspec": {
   "display_name": "Python 3 (ipykernel)",
   "language": "python",
   "name": "python3"
  },
  "language_info": {
   "codemirror_mode": {
    "name": "ipython",
    "version": 3
   },
   "file_extension": ".py",
   "mimetype": "text/x-python",
   "name": "python",
   "nbconvert_exporter": "python",
   "pygments_lexer": "ipython3",
   "version": "3.11.4"
  }
 },
 "nbformat": 4,
 "nbformat_minor": 5
}
